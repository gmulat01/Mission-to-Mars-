{
 "cells": [
  {
   "cell_type": "code",
   "execution_count": 1,
   "id": "55f1cc69-649e-424c-817e-84364eb10eb9",
   "metadata": {},
   "outputs": [],
   "source": [
    "#!/usr/bin/env python\n",
    "# Import Splinter and BeautifulSoup\n",
    "from splinter import Browser\n",
    "import pandas as pd\n",
    "from bs4 import BeautifulSoup as soup\n",
    "import datetime as dt\n",
    "from webdriver_manager.chrome import ChromeDriverManager"
   ]
  },
  {
   "cell_type": "code",
   "execution_count": 2,
   "id": "170373a0-7cba-4eb9-8eeb-56f41b7dc5f5",
   "metadata": {},
   "outputs": [],
   "source": [
    "def scrape_all():\n",
    "    \n",
    "    #Initiate headless driver for deployment \n",
    "    \n",
    "    executable_path = {'executable_path': ChromeDriverManager().install()}\n",
    "    browser = Browser('chrome', **executable_path, headless=True)\n",
    "    \n",
    "    news_title, news_paragraph = mars_news(browser)\n",
    "    \n",
    "    # Run all scraping functions and store results in dictionary\n",
    "    data = {\n",
    "      \"news_title\": news_title,\n",
    "      \"news_paragraph\": news_paragraph,\n",
    "      \"featured_image\": featured_image(browser),\n",
    "      \"facts\": mars_facts(),\n",
    "      \"last_modified\": dt.datetime.now()\n",
    "    \n",
    "    }\n",
    "    \n",
    "    #Stop webdriver and return data\n",
    "    browser.quit()\n",
    "    return data"
   ]
  },
  {
   "cell_type": "code",
   "execution_count": null,
   "id": "5f868b4d-5fd7-439c-a46e-78c2efb5f5ea",
   "metadata": {},
   "outputs": [],
   "source": []
  },
  {
   "cell_type": "code",
   "execution_count": 4,
   "id": "0a2a885a-4f06-477e-bc33-dde25bbe01b3",
   "metadata": {},
   "outputs": [],
   "source": [
    "# Set up Splinter\n",
    "#executable_path = {'executable_path': ChromeDriverManager().install()}\n",
    "#browser = Browser('chrome', **executable_path, headless=False)\n",
    "\n",
    "def mars_news(browser):\n",
    "    \n",
    "    # Visit the mars nasa news site\n",
    "    url = 'https://redplanetscience.com'\n",
    "    browser.visit(url)\n",
    "\n",
    "    # Optional delay for loading the page\n",
    "    browser.is_element_present_by_css('div.list_text', wait_time=1)\n",
    "\n",
    "\n",
    "    # Convert the browser html to a soup object\n",
    "    html = browser.html\n",
    "    news_soup = soup(html, 'html.parser')\n",
    "    \n",
    "# Add try/except for error handling\n",
    "\n",
    "    try:\n",
    "\n",
    "        slide_elem = news_soup.select_one('div.list_text')\n",
    "        # Use the parent element to find the first `a` tag and save it as `news_title`\n",
    "        news_title = slide_elem.find('div', class_='content_title').get_text()\n",
    "\n",
    "        # Use the parent element to find the paragraph text\n",
    "        news_p = slide_elem.find('div', class_='article_teaser_body').get_text()\n",
    "\n",
    "    except AttributeError:\n",
    "        \n",
    "        return None, None\n",
    "    \n",
    "    return news_title, news_p"
   ]
  },
  {
   "cell_type": "code",
   "execution_count": 9,
   "id": "8a027b90-a1d3-41f4-a97d-44461b22a848",
   "metadata": {},
   "outputs": [],
   "source": [
    "\n",
    "def featured_image(browser):\n",
    "\n",
    "    # Visit URL\n",
    "    url = 'https://spaceimages-mars.com'\n",
    "    browser.visit(url)\n",
    "\n",
    "    # Find and click the full image button\n",
    "    full_image_elem = browser.find_by_tag('button')[1]\n",
    "    full_image_elem.click()\n",
    "\n",
    "    # Parse the resulting html with soup\n",
    "    html = browser.html\n",
    "    img_soup = soup(html, 'html.parser')\n",
    "\n",
    "    # Add try/except for error handling\n",
    "    \n",
    "    try:\n",
    "    \n",
    "        # Find the relative image url\n",
    "        img_url_rel = img_soup.find('img', class_='fancybox-image').get('src')\n",
    "    \n",
    "    except AttributeError:\n",
    "    \n",
    "        return None\n",
    "    \n",
    "    # Use the base URL to create an absolute URL\n",
    "    img_url = f'https://spaceimages-mars.com/{img_url_rel}'\n",
    "   \n",
    "    return img_url\n"
   ]
  },
  {
   "cell_type": "code",
   "execution_count": 11,
   "id": "17c367fd-b0f0-4ac5-aab7-df76773cf777",
   "metadata": {},
   "outputs": [],
   "source": [
    "def mars_facts():\n",
    "    \n",
    "    # Add try/except for error handling \n",
    "    try:\n",
    "    \n",
    "        # Mars Facts\n",
    "        df = pd.read_html('https://galaxyfacts-mars.com')[0]\n",
    "    \n",
    "    except BaseException:\n",
    "        \n",
    "        return None\n",
    "    \n",
    "    # Assign columns and set index of dataframe\n",
    "    \n",
    "    df.columns=['description', 'Mars', 'Earth']\n",
    "    df.set_index('description', inplace=True)\n",
    "\n",
    "    # Convert dataframe into HTML format, add bootstrap\n",
    "    \n",
    "    return df.to_html(classes=\"table table-striped\")"
   ]
  },
  {
   "cell_type": "code",
   "execution_count": 12,
   "id": "fd44e0b4-4008-4b62-a57d-bfc7a09ddd74",
   "metadata": {},
   "outputs": [
    {
     "name": "stdout",
     "output_type": "stream",
     "text": [
      "\n"
     ]
    },
    {
     "name": "stderr",
     "output_type": "stream",
     "text": [
      "[WDM] - ====== WebDriver manager ======\n",
      "[WDM] - Current google-chrome version is 102.0.5005\n",
      "[WDM] - Get LATEST chromedriver version for 102.0.5005 google-chrome\n",
      "[WDM] - Driver [/Users/gmulat/.wdm/drivers/chromedriver/mac64/102.0.5005.61/chromedriver] found in cache\n"
     ]
    },
    {
     "name": "stdout",
     "output_type": "stream",
     "text": [
      "{'news_title': 'NASA Invites Public to Share Excitement of Mars 2020 Perseverance Rover Launch', 'news_paragraph': 'There are lots of ways to participate in the historic event, which is targeted for July 30.', 'featured_image': 'https://spaceimages-mars.com/image/featured/mars2.jpg', 'facts': '<table border=\"1\" class=\"dataframe table table-striped\">\\n  <thead>\\n    <tr style=\"text-align: right;\">\\n      <th></th>\\n      <th>Mars</th>\\n      <th>Earth</th>\\n    </tr>\\n    <tr>\\n      <th>description</th>\\n      <th></th>\\n      <th></th>\\n    </tr>\\n  </thead>\\n  <tbody>\\n    <tr>\\n      <th>Mars - Earth Comparison</th>\\n      <td>Mars</td>\\n      <td>Earth</td>\\n    </tr>\\n    <tr>\\n      <th>Diameter:</th>\\n      <td>6,779 km</td>\\n      <td>12,742 km</td>\\n    </tr>\\n    <tr>\\n      <th>Mass:</th>\\n      <td>6.39 × 10^23 kg</td>\\n      <td>5.97 × 10^24 kg</td>\\n    </tr>\\n    <tr>\\n      <th>Moons:</th>\\n      <td>2</td>\\n      <td>1</td>\\n    </tr>\\n    <tr>\\n      <th>Distance from Sun:</th>\\n      <td>227,943,824 km</td>\\n      <td>149,598,262 km</td>\\n    </tr>\\n    <tr>\\n      <th>Length of Year:</th>\\n      <td>687 Earth days</td>\\n      <td>365.24 days</td>\\n    </tr>\\n    <tr>\\n      <th>Temperature:</th>\\n      <td>-87 to -5 °C</td>\\n      <td>-88 to 58°C</td>\\n    </tr>\\n  </tbody>\\n</table>', 'last_modified': datetime.datetime(2022, 6, 4, 20, 14, 51, 334906)}\n"
     ]
    }
   ],
   "source": [
    "if __name__ == \"__main__\":\n",
    "    \n",
    "    # If running as script, print scraped data\n",
    "    print(scrape_all())\n"
   ]
  },
  {
   "cell_type": "code",
   "execution_count": null,
   "id": "68cd2134-d074-4191-98ef-cf621d1fede5",
   "metadata": {},
   "outputs": [],
   "source": []
  }
 ],
 "metadata": {
  "kernelspec": {
   "display_name": "PythonData",
   "language": "python",
   "name": "pythondata"
  },
  "language_info": {
   "codemirror_mode": {
    "name": "ipython",
    "version": 3
   },
   "file_extension": ".py",
   "mimetype": "text/x-python",
   "name": "python",
   "nbconvert_exporter": "python",
   "pygments_lexer": "ipython3",
   "version": "3.7.11"
  }
 },
 "nbformat": 4,
 "nbformat_minor": 5
}
